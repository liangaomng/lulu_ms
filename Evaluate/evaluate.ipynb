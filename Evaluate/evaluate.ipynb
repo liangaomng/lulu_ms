{
 "cells": [
  {
   "cell_type": "markdown",
   "metadata": {},
   "source": [
    "## this file is read the .npy files and plot \n",
    "## to compare the scale learn and false with different scale\n",
    "\n"
   ]
  },
  {
   "cell_type": "code",
   "execution_count": 10,
   "metadata": {},
   "outputs": [
    {
     "data": {
      "text/plain": [
       "'../Result/Poisson'"
      ]
     },
     "execution_count": 10,
     "metadata": {},
     "output_type": "execute_result"
    }
   ],
   "source": [
    "import os\n",
    "import re\n",
    "import numpy as np\n",
    "pde_task = 'Poisson'\n",
    "# 设定文件夹路径，这里假设.npy文件与脚本在同一目录下\n",
    "folder_path = '../Result/'+pde_task\n",
    "\n",
    "folder_path"
   ]
  },
  {
   "cell_type": "code",
   "execution_count": 11,
   "metadata": {},
   "outputs": [],
   "source": [
    "from pydantic import BaseModel,validator\n",
    "class User_Data_info(BaseModel):\n",
    "  \n",
    "   folder_name:str\n",
    "   loss_file:str\n",
    "   omega_file:str\n",
    "   loss_data: np.ndarray\n",
    "   \n",
    "   class Config:\n",
    "        arbitrary_types_allowed = True  # Allow arbitrary types\n",
    "   def __init__(self, **data):\n",
    "        super().__init__(**data)\n",
    "        self.loss_file = f\"{self.folder_name}/{self.loss_file}\"\n",
    "        self.omega_file = f\"{self.folder_name}/{self.omega_file}\"\n",
    "   @validator('loss_file', 'omega_file')\n",
    "   def account_id_must_be_npy(cls,value):\n",
    "      assert value.endswith('.npy'), \"File must be a .npy file\"\n",
    "      return value\n",
    "\n",
    "Data_folder={\"folder_name\":\"liangaoming\",\"loss_file\":\"loss.npy\",\"omega_file\":\"omega.npy\",\"loss_data\":np.array([])}\n",
    "read_data_info=User_Data_info(**Data_folder)"
   ]
  },
  {
   "cell_type": "markdown",
   "metadata": {},
   "source": [
    "## 按照文件的名字读取，并且声称类的变量\n",
    "在agent.py  保存\n",
    "record = np.array([[epoch, train_loss,test_loss,pde_loss,bc_loss,data_loss]])\n",
    "            "
   ]
  },
  {
   "cell_type": "code",
   "execution_count": 13,
   "metadata": {},
   "outputs": [
    {
     "name": "stdout",
     "output_type": "stream",
     "text": [
      "match loss.npy\n",
      "match loss.npy\n",
      "match loss.npy\n",
      "match loss.npy\n",
      "match loss.npy\n",
      "match loss.npy\n",
      "match loss.npy\n",
      "match loss.npy\n",
      "match loss.npy\n",
      "match loss.npy\n",
      "match loss.npy\n",
      "match loss.npy\n",
      "match loss.npy\n",
      "match loss.npy\n",
      "match loss.npy\n"
     ]
    },
    {
     "data": {
      "text/plain": [
       "dict_keys(['Expr1_6_1_PINN_Seed_1_Scale coeff_1_Learn_scale_false', 'Expr1_6_1_PINN_Seed_42_Scale coeff_1_Learn_scale_false', 'Expr1_6_1_PINN_Seed_100_Scale coeff_1_Learn_scale_false', 'Expr1_6_2_PINN_Seed_1_Scale coeff_1,2_Learn_scale_false', 'Expr1_6_2_PINN_Seed_42_Scale coeff_1,2_Learn_scale_false', 'Expr1_6_2_PINN_Seed_100_Scale coeff_1,2_Learn_scale_false', 'Expr1_6_3_PINN_Seed_1_Scale coeff_1,2,3_Learn_scale_false', 'Expr1_6_3_PINN_Seed_42_Scale coeff_1,2,3_Learn_scale_false', 'Expr1_6_3_PINN_Seed_100_Scale coeff_1,2,3_Learn_scale_false', 'Expr1_6_4_PINN_Seed_1_Scale coeff_1,2,3,4_Learn_scale_false', 'Expr1_6_4_PINN_Seed_42_Scale coeff_1,2,3,4_Learn_scale_false', 'Expr1_6_4_PINN_Seed_100_Scale coeff_1,2,3,4_Learn_scale_false', 'Expr1_6_5_PINN_Seed_1_Scale coeff_1,2,3,4,5_Learn_scale_false', 'Expr1_6_5_PINN_Seed_42_Scale coeff_1,2,3,4,5_Learn_scale_false', 'Expr1_6_5_PINN_Seed_100_Scale coeff_1,2,3,4,5_Learn_scale_false'])"
      ]
     },
     "execution_count": 13,
     "metadata": {},
     "output_type": "execute_result"
    }
   ],
   "source": [
    "\n",
    "import matplotlib.pyplot as plt\n",
    "#this is to read the data from the file\n",
    "#合并字典 注意Learn_scale_false\n",
    "class Merge_Exprs_Data():\n",
    "   #根据文件夹\n",
    "   def __init__(self,exprs_order=[],folder_structure=\"\"):\n",
    "      #self.folder_structure=f\"Expr1_6_{expr_name+1}_PINN_Seed_{seed}_Scale coeff_{scale_str}_Learn_scale_false\",\n",
    "      \n",
    "      self.exprs_num=exprs_order #查找的expr的开始和结束在list\n",
    "      self.seed_list=[1,42,100]\n",
    "      self._folder_structure=folder_structure\n",
    "      self.scale=[]\n",
    "      self.end_exprs_num=exprs_order[-1]\n",
    "      self.start_exprs_num=exprs_order[0]\n",
    "      self.dict={}\n",
    "      \n",
    "   def merge(self,return_dict:dict)->dict: \n",
    "      \n",
    "      scale=0\n",
    "      for expr_name in range(self.start_exprs_num,self.end_exprs_num+1):\n",
    "         scale+=1\n",
    "         self.scale.append(scale)\n",
    "         #按照seed\n",
    "         for seed in self.seed_list:\n",
    "            \n",
    "            scale_str = ','.join(map(str, self.scale))  # 将所有元素转换为字符串并用逗号连接\n",
    "            \n",
    "            Data_folder={\"folder_name\":self._folder_structure.format(expr_name,seed,scale_str),\n",
    "                     \"loss_file\":\"loss.npy\",\n",
    "                     \"omega_file\":\"omega.npy\",\n",
    "                     \"loss_data\":np.array([])}\n",
    "            \n",
    "            read_data_info=User_Data_info(**Data_folder)\n",
    "            \n",
    "            #搜获的地址\n",
    "            search_folder=\"../Result/Poisson/\"+read_data_info.folder_name\n",
    "            # 遍历文件夹中的文件\n",
    "            for filename in os.listdir(search_folder):\n",
    "               match = re.match(r'(.*)loss.npy', filename)\n",
    "               if (match):\n",
    "                  # 加载.npy文件\n",
    "                  print(\"match\",filename)\n",
    "                  file_path = os.path.join(search_folder, filename)\n",
    "                  read_data_info.loss_data=np.load(file_path)\n",
    "            \n",
    "                  return_dict[read_data_info.folder_name]=read_data_info\n",
    "      self.dict=return_dict\n",
    "      return return_dict\n",
    "\n",
    "   def Get_Min_from_diffseed(self,re_expr,se_dict={}):\n",
    "      MIN=[]\n",
    "      #  提取seed\n",
    "      for key in se_dict.keys():\n",
    "         # 如果键匹配模式\n",
    "         if re.search(re_expr, key):\n",
    "            # 提取该键的 loss_data\n",
    "            print(\"get_key for min\",key)\n",
    "            #dataloss 的min\n",
    "            min=np.min(self.dict[key].loss_data[:,-1])\n",
    "            MIN.append(min)\n",
    "         else:\n",
    "            print(\"not match\")\n",
    "      Mean_MIN=np.mean(MIN)\n",
    "      Std=np.std(MIN)\n",
    "      return Mean_MIN,Std\n",
    "\n",
    "scale_false_return_dict={}\n",
    "merge__false_data=Merge_Exprs_Data(exprs_order=[1,5],folder_structure=\"Expr1_6_{}_PINN_Seed_{}_Scale coeff_{}_Learn_scale_false\")\n",
    "scale_false_dict=merge__false_data.merge(scale_false_return_dict)\n",
    "\n",
    "scale_false_dict.keys()\n"
   ]
  },
  {
   "cell_type": "code",
   "execution_count": 14,
   "metadata": {},
   "outputs": [
    {
     "name": "stdout",
     "output_type": "stream",
     "text": [
      "match loss.npy\n",
      "match loss.npy\n",
      "match loss.npy\n",
      "match loss.npy\n",
      "match loss.npy\n",
      "match loss.npy\n",
      "match loss.npy\n",
      "match loss.npy\n",
      "match loss.npy\n",
      "match loss.npy\n",
      "match loss.npy\n",
      "match loss.npy\n",
      "match loss.npy\n",
      "match loss.npy\n",
      "match loss.npy\n"
     ]
    }
   ],
   "source": [
    "scale_learn_retrun_dcit={}\n",
    "merge__learn_data=Merge_Exprs_Data(exprs_order=[6,10],folder_structure=\"Expr1_6_{}_PINN_Seed_{}_Scale coeff_{}_Learn_scale_true\")\n",
    "scale_learn_dict=merge__learn_data.merge(scale_learn_retrun_dcit)\n"
   ]
  },
  {
   "cell_type": "code",
   "execution_count": 15,
   "metadata": {},
   "outputs": [
    {
     "data": {
      "text/plain": [
       "{'Expr1_6_6_PINN_Seed_1_Scale coeff_1_Learn_scale_true': User_Data_info(folder_name='Expr1_6_6_PINN_Seed_1_Scale coeff_1_Learn_scale_true', loss_file='Expr1_6_6_PINN_Seed_1_Scale coeff_1_Learn_scale_true/loss.npy', omega_file='Expr1_6_6_PINN_Seed_1_Scale coeff_1_Learn_scale_true/omega.npy', loss_data=array([[0.00000000e+00, 1.78272578e+05, 1.77254516e+05, 1.77252547e+05,\n",
       "         1.01725388e+00, 9.60700750e-01],\n",
       "        [1.00000000e+01, 1.78246391e+05, 1.77256250e+05, 1.77254312e+05,\n",
       "         9.89312232e-01, 9.46525812e-01],\n",
       "        [2.00000000e+01, 1.78209766e+05, 1.77262062e+05, 1.77260203e+05,\n",
       "         9.43996191e-01, 9.27825987e-01],\n",
       "        [3.00000000e+01, 1.78110953e+05, 1.77267812e+05, 1.77266094e+05,\n",
       "         8.26596439e-01, 8.97061586e-01],\n",
       "        [4.00000000e+01, 1.77895281e+05, 1.77163922e+05, 1.77162234e+05,\n",
       "         7.38299310e-01, 9.49888587e-01]])),\n",
       " 'Expr1_6_6_PINN_Seed_42_Scale coeff_1_Learn_scale_true': User_Data_info(folder_name='Expr1_6_6_PINN_Seed_42_Scale coeff_1_Learn_scale_true', loss_file='Expr1_6_6_PINN_Seed_42_Scale coeff_1_Learn_scale_true/loss.npy', omega_file='Expr1_6_6_PINN_Seed_42_Scale coeff_1_Learn_scale_true/omega.npy', loss_data=array([[0.00000000e+00, 1.78289578e+05, 1.77255516e+05, 1.77253516e+05,\n",
       "         1.03384280e+00, 9.71847832e-01],\n",
       "        [1.00000000e+01, 1.78266234e+05, 1.77255766e+05, 1.77253797e+05,\n",
       "         1.00983274e+00, 9.58163202e-01],\n",
       "        [2.00000000e+01, 1.78233344e+05, 1.77255719e+05, 1.77253812e+05,\n",
       "         9.74928141e-01, 9.40750062e-01],\n",
       "        [3.00000000e+01, 1.78167047e+05, 1.77253125e+05, 1.77251312e+05,\n",
       "         9.05456066e-01, 9.13626730e-01],\n",
       "        [4.00000000e+01, 1.78027000e+05, 1.77220938e+05, 1.77219234e+05,\n",
       "         7.89956331e-01, 9.00025249e-01]])),\n",
       " 'Expr1_6_6_PINN_Seed_100_Scale coeff_1_Learn_scale_true': User_Data_info(folder_name='Expr1_6_6_PINN_Seed_100_Scale coeff_1_Learn_scale_true', loss_file='Expr1_6_6_PINN_Seed_100_Scale coeff_1_Learn_scale_true/loss.npy', omega_file='Expr1_6_6_PINN_Seed_100_Scale coeff_1_Learn_scale_true/omega.npy', loss_data=array([[0.00000000e+00, 1.78266484e+05, 1.77255609e+05, 1.77253641e+05,\n",
       "         1.01037920e+00, 9.57194924e-01],\n",
       "        [1.00000000e+01, 1.78238328e+05, 1.77256109e+05, 1.77254188e+05,\n",
       "         9.80545580e-01, 9.42311406e-01],\n",
       "        [2.00000000e+01, 1.78183109e+05, 1.77260000e+05, 1.77258156e+05,\n",
       "         9.15797353e-01, 9.18181777e-01],\n",
       "        [3.00000000e+01, 1.78054906e+05, 1.77262531e+05, 1.77260844e+05,\n",
       "         7.80283272e-01, 9.03446198e-01],\n",
       "        [4.00000000e+01, 1.77935609e+05, 1.77197672e+05, 1.77196000e+05,\n",
       "         7.28138387e-01, 9.36512291e-01]])),\n",
       " 'Expr1_6_7_PINN_Seed_1_Scale coeff_1,2_Learn_scale_true': User_Data_info(folder_name='Expr1_6_7_PINN_Seed_1_Scale coeff_1,2_Learn_scale_true', loss_file='Expr1_6_7_PINN_Seed_1_Scale coeff_1,2_Learn_scale_true/loss.npy', omega_file='Expr1_6_7_PINN_Seed_1_Scale coeff_1,2_Learn_scale_true/omega.npy', loss_data=array([[0.00000000e+00, 1.78265500e+05, 1.77252906e+05, 1.77250953e+05,\n",
       "         1.00574112e+00, 9.51731026e-01],\n",
       "        [1.00000000e+01, 1.78179141e+05, 1.77239406e+05, 1.77237547e+05,\n",
       "         9.30517554e-01, 9.18420792e-01],\n",
       "        [2.00000000e+01, 1.78018609e+05, 1.77194297e+05, 1.77192594e+05,\n",
       "         8.06472361e-01, 8.88523281e-01],\n",
       "        [3.00000000e+01, 1.77814203e+05, 1.77056125e+05, 1.77054406e+05,\n",
       "         7.42251933e-01, 9.66306746e-01],\n",
       "        [4.00000000e+01, 1.77602078e+05, 1.76857344e+05, 1.76855656e+05,\n",
       "         7.22792387e-01, 9.63799536e-01]])),\n",
       " 'Expr1_6_7_PINN_Seed_42_Scale coeff_1,2_Learn_scale_true': User_Data_info(folder_name='Expr1_6_7_PINN_Seed_42_Scale coeff_1,2_Learn_scale_true', loss_file='Expr1_6_7_PINN_Seed_42_Scale coeff_1,2_Learn_scale_true/loss.npy', omega_file='Expr1_6_7_PINN_Seed_42_Scale coeff_1,2_Learn_scale_true/omega.npy', loss_data=array([[0.00000000e+00, 1.78293078e+05, 1.77256062e+05, 1.77254062e+05,\n",
       "         1.03219295e+00, 9.71719980e-01],\n",
       "        [1.00000000e+01, 1.78216438e+05, 1.77242266e+05, 1.77240359e+05,\n",
       "         9.65545475e-01, 9.41008508e-01],\n",
       "        [2.00000000e+01, 1.78055859e+05, 1.77183984e+05, 1.77182234e+05,\n",
       "         8.49308014e-01, 9.08127427e-01],\n",
       "        [3.00000000e+01, 1.77711109e+05, 1.76934219e+05, 1.76932500e+05,\n",
       "         7.57561743e-01, 9.72450078e-01],\n",
       "        [4.00000000e+01, 1.77439859e+05, 1.76539141e+05, 1.76537125e+05,\n",
       "         8.70963097e-01, 1.13348722e+00]])),\n",
       " 'Expr1_6_7_PINN_Seed_100_Scale coeff_1,2_Learn_scale_true': User_Data_info(folder_name='Expr1_6_7_PINN_Seed_100_Scale coeff_1,2_Learn_scale_true', loss_file='Expr1_6_7_PINN_Seed_100_Scale coeff_1,2_Learn_scale_true/loss.npy', omega_file='Expr1_6_7_PINN_Seed_100_Scale coeff_1,2_Learn_scale_true/omega.npy', loss_data=array([[0.00000000e+00, 1.78246078e+05, 1.77255938e+05, 1.77254016e+05,\n",
       "         9.85691726e-01, 9.43002164e-01],\n",
       "        [1.00000000e+01, 1.78159438e+05, 1.77234266e+05, 1.77232453e+05,\n",
       "         9.12790477e-01, 9.11986709e-01],\n",
       "        [2.00000000e+01, 1.77949203e+05, 1.77147797e+05, 1.77146125e+05,\n",
       "         7.75923610e-01, 8.89235139e-01],\n",
       "        [3.00000000e+01, 1.77637125e+05, 1.76844203e+05, 1.76842453e+05,\n",
       "         7.56556869e-01, 1.00440645e+00],\n",
       "        [4.00000000e+01, 1.77318062e+05, 1.76462797e+05, 1.76460875e+05,\n",
       "         8.30550969e-01, 1.09732664e+00]])),\n",
       " 'Expr1_6_8_PINN_Seed_1_Scale coeff_1,2,3_Learn_scale_true': User_Data_info(folder_name='Expr1_6_8_PINN_Seed_1_Scale coeff_1,2,3_Learn_scale_true', loss_file='Expr1_6_8_PINN_Seed_1_Scale coeff_1,2,3_Learn_scale_true/loss.npy', omega_file='Expr1_6_8_PINN_Seed_1_Scale coeff_1,2,3_Learn_scale_true/omega.npy', loss_data=array([[0.00000000e+00, 1.78269781e+05, 1.77258781e+05, 1.77256844e+05,\n",
       "         9.96210098e-01, 9.45241988e-01],\n",
       "        [1.00000000e+01, 1.78123609e+05, 1.77219859e+05, 1.77218078e+05,\n",
       "         8.87779593e-01, 8.97914588e-01],\n",
       "        [2.00000000e+01, 1.77883047e+05, 1.77114328e+05, 1.77112703e+05,\n",
       "         7.43044555e-01, 8.82227778e-01],\n",
       "        [3.00000000e+01, 1.77555031e+05, 1.76750844e+05, 1.76749047e+05,\n",
       "         7.64537513e-01, 1.03591394e+00],\n",
       "        [4.00000000e+01, 1.77036922e+05, 1.76181641e+05, 1.76179766e+05,\n",
       "         7.92805791e-01, 1.08132017e+00]])),\n",
       " 'Expr1_6_8_PINN_Seed_42_Scale coeff_1,2,3_Learn_scale_true': User_Data_info(folder_name='Expr1_6_8_PINN_Seed_42_Scale coeff_1,2,3_Learn_scale_true', loss_file='Expr1_6_8_PINN_Seed_42_Scale coeff_1,2,3_Learn_scale_true/loss.npy', omega_file='Expr1_6_8_PINN_Seed_42_Scale coeff_1,2,3_Learn_scale_true/omega.npy', loss_data=array([[0.00000000e+00, 1.78295578e+05, 1.77254562e+05, 1.77252562e+05,\n",
       "         1.02940595e+00, 9.70770955e-01],\n",
       "        [1.00000000e+01, 1.78122344e+05, 1.77181438e+05, 1.77179594e+05,\n",
       "         9.16438520e-01, 9.21433330e-01],\n",
       "        [2.00000000e+01, 1.77732953e+05, 1.76926141e+05, 1.76924484e+05,\n",
       "         7.52855957e-01, 9.02795792e-01],\n",
       "        [3.00000000e+01, 1.76987422e+05, 1.76030562e+05, 1.76028516e+05,\n",
       "         8.84925127e-01, 1.15764606e+00],\n",
       "        [4.00000000e+01, 1.76118969e+05, 1.75000453e+05, 1.74998203e+05,\n",
       "         9.95140731e-01, 1.25147116e+00]])),\n",
       " 'Expr1_6_8_PINN_Seed_100_Scale coeff_1,2,3_Learn_scale_true': User_Data_info(folder_name='Expr1_6_8_PINN_Seed_100_Scale coeff_1,2,3_Learn_scale_true', loss_file='Expr1_6_8_PINN_Seed_100_Scale coeff_1,2,3_Learn_scale_true/loss.npy', omega_file='Expr1_6_8_PINN_Seed_100_Scale coeff_1,2,3_Learn_scale_true/omega.npy', loss_data=array([[0.00000000e+00, 1.78221219e+05, 1.77249031e+05, 1.77247156e+05,\n",
       "         9.59386289e-01, 9.28726494e-01],\n",
       "        [1.00000000e+01, 1.78028016e+05, 1.77152297e+05, 1.77150562e+05,\n",
       "         8.45943987e-01, 8.87400746e-01],\n",
       "        [2.00000000e+01, 1.77599125e+05, 1.76827531e+05, 1.76825875e+05,\n",
       "         7.29339004e-01, 9.21509564e-01],\n",
       "        [3.00000000e+01, 1.76993734e+05, 1.76055812e+05, 1.76053812e+05,\n",
       "         8.64558160e-01, 1.13932562e+00],\n",
       "        [4.00000000e+01, 1.76228266e+05, 1.75056172e+05, 1.75053734e+05,\n",
       "         1.08312643e+00, 1.36432850e+00]])),\n",
       " 'Expr1_6_9_PINN_Seed_1_Scale coeff_1,2,3,4_Learn_scale_true': User_Data_info(folder_name='Expr1_6_9_PINN_Seed_1_Scale coeff_1,2,3,4_Learn_scale_true', loss_file='Expr1_6_9_PINN_Seed_1_Scale coeff_1,2,3,4_Learn_scale_true/loss.npy', omega_file='Expr1_6_9_PINN_Seed_1_Scale coeff_1,2,3,4_Learn_scale_true/omega.npy', loss_data=array([[0.00000000e+00, 1.78250344e+05, 1.77241906e+05, 1.77239984e+05,\n",
       "         9.85308468e-01, 9.39935505e-01],\n",
       "        [1.00000000e+01, 1.78016938e+05, 1.77123688e+05, 1.77121938e+05,\n",
       "         8.66601467e-01, 8.88130009e-01],\n",
       "        [2.00000000e+01, 1.77582562e+05, 1.76794375e+05, 1.76792766e+05,\n",
       "         7.28487670e-01, 8.75673652e-01],\n",
       "        [3.00000000e+01, 1.76692266e+05, 1.75825812e+05, 1.75824078e+05,\n",
       "         7.41247714e-01, 9.97450590e-01],\n",
       "        [4.00000000e+01, 1.74789781e+05, 1.73717016e+05, 1.73715203e+05,\n",
       "         7.80316770e-01, 1.03325200e+00]])),\n",
       " 'Expr1_6_9_PINN_Seed_42_Scale coeff_1,2,3,4_Learn_scale_true': User_Data_info(folder_name='Expr1_6_9_PINN_Seed_42_Scale coeff_1,2,3,4_Learn_scale_true', loss_file='Expr1_6_9_PINN_Seed_42_Scale coeff_1,2,3,4_Learn_scale_true/loss.npy', omega_file='Expr1_6_9_PINN_Seed_42_Scale coeff_1,2,3,4_Learn_scale_true/omega.npy', loss_data=array([[0.00000000e+00, 1.78285953e+05, 1.77237406e+05, 1.77235406e+05,\n",
       "         1.02479661e+00, 9.68905687e-01],\n",
       "        [1.00000000e+01, 1.77956938e+05, 1.77038688e+05, 1.77036906e+05,\n",
       "         8.71311069e-01, 9.03325677e-01],\n",
       "        [2.00000000e+01, 1.77234156e+05, 1.76369359e+05, 1.76367656e+05,\n",
       "         7.53615677e-01, 9.45696950e-01],\n",
       "        [3.00000000e+01, 1.75784703e+05, 1.74580766e+05, 1.74578438e+05,\n",
       "         1.04554915e+00, 1.28282702e+00],\n",
       "        [4.00000000e+01, 1.73421266e+05, 1.71777469e+05, 1.71774625e+05,\n",
       "         1.34685278e+00, 1.49281144e+00]])),\n",
       " 'Expr1_6_9_PINN_Seed_100_Scale coeff_1,2,3,4_Learn_scale_true': User_Data_info(folder_name='Expr1_6_9_PINN_Seed_100_Scale coeff_1,2,3,4_Learn_scale_true', loss_file='Expr1_6_9_PINN_Seed_100_Scale coeff_1,2,3,4_Learn_scale_true/loss.npy', omega_file='Expr1_6_9_PINN_Seed_100_Scale coeff_1,2,3,4_Learn_scale_true/omega.npy', loss_data=array([[0.00000000e+00, 1.78192297e+05, 1.77234875e+05, 1.77233016e+05,\n",
       "         9.35676575e-01, 9.15567100e-01],\n",
       "        [1.00000000e+01, 1.77878562e+05, 1.77023750e+05, 1.77022062e+05,\n",
       "         8.06795001e-01, 8.72524738e-01],\n",
       "        [2.00000000e+01, 1.77162156e+05, 1.76333047e+05, 1.76331359e+05,\n",
       "         7.34969437e-01, 9.50719535e-01],\n",
       "        [3.00000000e+01, 1.75739453e+05, 1.74626156e+05, 1.74624062e+05,\n",
       "         9.19874787e-01, 1.17757463e+00],\n",
       "        [4.00000000e+01, 1.73326609e+05, 1.71853234e+05, 1.71850719e+05,\n",
       "         1.15033185e+00, 1.35443664e+00]])),\n",
       " 'Expr1_6_10_PINN_Seed_1_Scale coeff_1,2,3,4,5_Learn_scale_true': User_Data_info(folder_name='Expr1_6_10_PINN_Seed_1_Scale coeff_1,2,3,4,5_Learn_scale_true', loss_file='Expr1_6_10_PINN_Seed_1_Scale coeff_1,2,3,4,5_Learn_scale_true/loss.npy', omega_file='Expr1_6_10_PINN_Seed_1_Scale coeff_1,2,3,4,5_Learn_scale_true/omega.npy', loss_data=array([[0.00000000e+00, 1.78226703e+05, 1.77220109e+05, 1.77218203e+05,\n",
       "         9.72599804e-01, 9.34209049e-01],\n",
       "        [1.00000000e+01, 1.77851688e+05, 1.76955484e+05, 1.76953766e+05,\n",
       "         8.45727205e-01, 8.79235089e-01],\n",
       "        [2.00000000e+01, 1.77021641e+05, 1.76180938e+05, 1.76179344e+05,\n",
       "         7.17157066e-01, 8.75090539e-01],\n",
       "        [3.00000000e+01, 1.75099453e+05, 1.74057891e+05, 1.74056125e+05,\n",
       "         7.53004014e-01, 1.01464069e+00],\n",
       "        [4.00000000e+01, 1.71165234e+05, 1.69742203e+05, 1.69740078e+05,\n",
       "         9.13857579e-01, 1.22216237e+00]])),\n",
       " 'Expr1_6_10_PINN_Seed_42_Scale coeff_1,2,3,4,5_Learn_scale_true': User_Data_info(folder_name='Expr1_6_10_PINN_Seed_42_Scale coeff_1,2,3,4,5_Learn_scale_true', loss_file='Expr1_6_10_PINN_Seed_42_Scale coeff_1,2,3,4,5_Learn_scale_true/loss.npy', omega_file='Expr1_6_10_PINN_Seed_42_Scale coeff_1,2,3,4,5_Learn_scale_true/omega.npy', loss_data=array([[0.00000000e+00, 1.78276438e+05, 1.77215188e+05, 1.77213203e+05,\n",
       "         1.02263045e+00, 9.67786014e-01],\n",
       "        [1.00000000e+01, 1.77766297e+05, 1.76842688e+05, 1.76840953e+05,\n",
       "         8.48647892e-01, 8.91294777e-01],\n",
       "        [2.00000000e+01, 1.76606125e+05, 1.75679812e+05, 1.75678078e+05,\n",
       "         7.59256124e-01, 9.63203609e-01],\n",
       "        [3.00000000e+01, 1.74072656e+05, 1.72625859e+05, 1.72623422e+05,\n",
       "         1.10743117e+00, 1.33275640e+00],\n",
       "        [4.00000000e+01, 1.69109266e+05, 1.66940375e+05, 1.66937281e+05,\n",
       "         1.50130689e+00, 1.59165192e+00]])),\n",
       " 'Expr1_6_10_PINN_Seed_100_Scale coeff_1,2,3,4,5_Learn_scale_true': User_Data_info(folder_name='Expr1_6_10_PINN_Seed_100_Scale coeff_1,2,3,4,5_Learn_scale_true', loss_file='Expr1_6_10_PINN_Seed_100_Scale coeff_1,2,3,4,5_Learn_scale_true/loss.npy', omega_file='Expr1_6_10_PINN_Seed_100_Scale coeff_1,2,3,4,5_Learn_scale_true/omega.npy', loss_data=array([[0.00000000e+00, 1.78170656e+05, 1.77220172e+05, 1.77218344e+05,\n",
       "         9.15401697e-01, 9.03855145e-01],\n",
       "        [1.00000000e+01, 1.77686969e+05, 1.76833625e+05, 1.76831984e+05,\n",
       "         7.81178415e-01, 8.60160232e-01],\n",
       "        [2.00000000e+01, 1.76543484e+05, 1.75647922e+05, 1.75646234e+05,\n",
       "         7.27180660e-01, 9.49839354e-01],\n",
       "        [3.00000000e+01, 1.74052188e+05, 1.72774312e+05, 1.72772219e+05,\n",
       "         9.23201382e-01, 1.17612064e+00],\n",
       "        [4.00000000e+01, 1.69554750e+05, 1.67738062e+05, 1.67735469e+05,\n",
       "         1.19698155e+00, 1.39654100e+00]]))}"
      ]
     },
     "execution_count": 15,
     "metadata": {},
     "output_type": "execute_result"
    }
   ],
   "source": [
    "scale_learn_dict\n"
   ]
  },
  {
   "cell_type": "markdown",
   "metadata": {},
   "source": [
    "## x-axis info \n",
    "scale is adding the scale coeff 1,2,3,4,5 for scales is not learning"
   ]
  },
  {
   "cell_type": "code",
   "execution_count": 16,
   "metadata": {},
   "outputs": [
    {
     "name": "stdout",
     "output_type": "stream",
     "text": [
      "get_key for min Expr1_6_1_PINN_Seed_1_Scale coeff_1_Learn_scale_false\n",
      "get_key for min Expr1_6_1_PINN_Seed_42_Scale coeff_1_Learn_scale_false\n",
      "get_key for min Expr1_6_1_PINN_Seed_100_Scale coeff_1_Learn_scale_false\n",
      "not match\n",
      "not match\n",
      "not match\n",
      "not match\n",
      "not match\n",
      "not match\n",
      "not match\n",
      "not match\n",
      "not match\n",
      "not match\n",
      "not match\n",
      "not match\n",
      "not match\n",
      "not match\n",
      "not match\n",
      "get_key for min Expr1_6_2_PINN_Seed_1_Scale coeff_1,2_Learn_scale_false\n",
      "get_key for min Expr1_6_2_PINN_Seed_42_Scale coeff_1,2_Learn_scale_false\n",
      "get_key for min Expr1_6_2_PINN_Seed_100_Scale coeff_1,2_Learn_scale_false\n",
      "not match\n",
      "not match\n",
      "not match\n",
      "not match\n",
      "not match\n",
      "not match\n",
      "not match\n",
      "not match\n",
      "not match\n",
      "not match\n",
      "not match\n",
      "not match\n",
      "not match\n",
      "not match\n",
      "not match\n",
      "get_key for min Expr1_6_3_PINN_Seed_1_Scale coeff_1,2,3_Learn_scale_false\n",
      "get_key for min Expr1_6_3_PINN_Seed_42_Scale coeff_1,2,3_Learn_scale_false\n",
      "get_key for min Expr1_6_3_PINN_Seed_100_Scale coeff_1,2,3_Learn_scale_false\n",
      "not match\n",
      "not match\n",
      "not match\n",
      "not match\n",
      "not match\n",
      "not match\n",
      "not match\n",
      "not match\n",
      "not match\n",
      "not match\n",
      "not match\n",
      "not match\n",
      "not match\n",
      "not match\n",
      "not match\n",
      "get_key for min Expr1_6_4_PINN_Seed_1_Scale coeff_1,2,3,4_Learn_scale_false\n",
      "get_key for min Expr1_6_4_PINN_Seed_42_Scale coeff_1,2,3,4_Learn_scale_false\n",
      "get_key for min Expr1_6_4_PINN_Seed_100_Scale coeff_1,2,3,4_Learn_scale_false\n",
      "not match\n",
      "not match\n",
      "not match\n",
      "not match\n",
      "not match\n",
      "not match\n",
      "not match\n",
      "not match\n",
      "not match\n",
      "not match\n",
      "not match\n",
      "not match\n",
      "not match\n",
      "not match\n",
      "not match\n",
      "get_key for min Expr1_6_5_PINN_Seed_1_Scale coeff_1,2,3,4,5_Learn_scale_false\n",
      "get_key for min Expr1_6_5_PINN_Seed_42_Scale coeff_1,2,3,4,5_Learn_scale_false\n",
      "get_key for min Expr1_6_5_PINN_Seed_100_Scale coeff_1,2,3,4,5_Learn_scale_false\n"
     ]
    },
    {
     "data": {
      "text/plain": [
       "{'mean': [0.9632483522097269,\n",
       "  0.9554850856463114,\n",
       "  0.8906558156013489,\n",
       "  0.8837309082349142,\n",
       "  0.8753474354743958],\n",
       " 'Std': [0.0062473181411379815,\n",
       "  0.01202056290697301,\n",
       "  0.0086942074547626,\n",
       "  0.013911728220366482,\n",
       "  0.012757124608035167]}"
      ]
     },
     "execution_count": 16,
     "metadata": {},
     "output_type": "execute_result"
    }
   ],
   "source": [
    "scale=[1,2,3,4,5]\n",
    "y_scale_false_info={\"mean\":[],\"Std\":[]}\n",
    "y_scale_learn_info={\"mean\":[],\"Std\":[]}\n",
    "#  提取seed的平均和标准差\n",
    "# for expr in x_info:\n",
    "\n",
    "#    Mean,std =merge_data.Get_Min_from_diffseed(re_expr=f\"Expr1_6_{expr}\",\n",
    "#                                               se_dict=scale_false_dict)\n",
    "#    y_scale_false_info[\"mean\"].append(Mean)\n",
    "#    y_scale_false_info[\"Std\"].append(std)\n",
    "\n",
    "for index,expr in enumerate(scale):\n",
    "\n",
    "   Mean,std =merge__false_data.Get_Min_from_diffseed(re_expr=f\"Expr1_6_{index+1}\",\n",
    "                                                      se_dict=scale_false_dict)\n",
    "   y_scale_false_info[\"mean\"].append(Mean)\n",
    "   y_scale_false_info[\"Std\"].append(std)\n",
    "   \n",
    "y_scale_false_info"
   ]
  },
  {
   "cell_type": "markdown",
   "metadata": {},
   "source": [
    "## x-axis info \n",
    "scale is adding the scale coeff 1,2,3,4,5 for scales is  learning"
   ]
  },
  {
   "cell_type": "code",
   "execution_count": 17,
   "metadata": {},
   "outputs": [
    {
     "name": "stdout",
     "output_type": "stream",
     "text": [
      "get_key for min Expr1_6_6_PINN_Seed_1_Scale coeff_1_Learn_scale_true\n",
      "get_key for min Expr1_6_6_PINN_Seed_42_Scale coeff_1_Learn_scale_true\n",
      "get_key for min Expr1_6_6_PINN_Seed_100_Scale coeff_1_Learn_scale_true\n",
      "not match\n",
      "not match\n",
      "not match\n",
      "not match\n",
      "not match\n",
      "not match\n",
      "not match\n",
      "not match\n",
      "not match\n",
      "not match\n",
      "not match\n",
      "not match\n",
      "not match\n",
      "not match\n",
      "not match\n",
      "get_key for min Expr1_6_7_PINN_Seed_1_Scale coeff_1,2_Learn_scale_true\n",
      "get_key for min Expr1_6_7_PINN_Seed_42_Scale coeff_1,2_Learn_scale_true\n",
      "get_key for min Expr1_6_7_PINN_Seed_100_Scale coeff_1,2_Learn_scale_true\n",
      "not match\n",
      "not match\n",
      "not match\n",
      "not match\n",
      "not match\n",
      "not match\n",
      "not match\n",
      "not match\n",
      "not match\n",
      "not match\n",
      "not match\n",
      "not match\n",
      "not match\n",
      "not match\n",
      "not match\n",
      "get_key for min Expr1_6_8_PINN_Seed_1_Scale coeff_1,2,3_Learn_scale_true\n",
      "get_key for min Expr1_6_8_PINN_Seed_42_Scale coeff_1,2,3_Learn_scale_true\n",
      "get_key for min Expr1_6_8_PINN_Seed_100_Scale coeff_1,2,3_Learn_scale_true\n",
      "not match\n",
      "not match\n",
      "not match\n",
      "not match\n",
      "not match\n",
      "not match\n",
      "not match\n",
      "not match\n",
      "not match\n",
      "not match\n",
      "not match\n",
      "not match\n",
      "not match\n",
      "not match\n",
      "not match\n",
      "get_key for min Expr1_6_9_PINN_Seed_1_Scale coeff_1,2,3,4_Learn_scale_true\n",
      "get_key for min Expr1_6_9_PINN_Seed_42_Scale coeff_1,2,3,4_Learn_scale_true\n",
      "get_key for min Expr1_6_9_PINN_Seed_100_Scale coeff_1,2,3,4_Learn_scale_true\n",
      "not match\n",
      "not match\n",
      "not match\n",
      "not match\n",
      "not match\n",
      "not match\n",
      "not match\n",
      "not match\n",
      "not match\n",
      "not match\n",
      "not match\n",
      "not match\n",
      "not match\n",
      "not match\n",
      "not match\n",
      "get_key for min Expr1_6_10_PINN_Seed_1_Scale coeff_1,2,3,4,5_Learn_scale_true\n",
      "get_key for min Expr1_6_10_PINN_Seed_42_Scale coeff_1,2,3,4,5_Learn_scale_true\n",
      "get_key for min Expr1_6_10_PINN_Seed_100_Scale coeff_1,2,3,4,5_Learn_scale_true\n"
     ]
    },
    {
     "data": {
      "text/plain": [
       "{'mean': [0.9001776774724325,\n",
       "  0.8952952822049459,\n",
       "  0.89080810546875,\n",
       "  0.883841355641683,\n",
       "  0.8755151828130087],\n",
       " 'Std': [0.002608734144752963,\n",
       "  0.009078349428820548,\n",
       "  0.008735687868530113,\n",
       "  0.013837340678374528,\n",
       "  0.01271417128186049]}"
      ]
     },
     "execution_count": 17,
     "metadata": {},
     "output_type": "execute_result"
    }
   ],
   "source": [
    "scale=[1,2,3,4,5]\n",
    "y_scale_learn_info={\"mean\":[],\"Std\":[]}\n",
    "#  提取seed的平均和标准差\n",
    "\n",
    "for index,expr in enumerate(scale):\n",
    "\n",
    "   Mean,std =merge__learn_data.Get_Min_from_diffseed(re_expr=f\"Expr1_6_{index+6}\",\n",
    "                                                      se_dict=scale_learn_dict)\n",
    "   y_scale_learn_info[\"mean\"].append(Mean)\n",
    "   y_scale_learn_info[\"Std\"].append(std)\n",
    "   \n",
    "y_scale_learn_info"
   ]
  },
  {
   "cell_type": "code",
   "execution_count": 18,
   "metadata": {},
   "outputs": [
    {
     "data": {
      "text/plain": [
       "{'mean': [0.9632483522097269,\n",
       "  0.9554850856463114,\n",
       "  0.8906558156013489,\n",
       "  0.8837309082349142,\n",
       "  0.8753474354743958],\n",
       " 'Std': [0.0062473181411379815,\n",
       "  0.01202056290697301,\n",
       "  0.0086942074547626,\n",
       "  0.013911728220366482,\n",
       "  0.012757124608035167]}"
      ]
     },
     "execution_count": 18,
     "metadata": {},
     "output_type": "execute_result"
    }
   ],
   "source": [
    "y_scale_false_info"
   ]
  },
  {
   "cell_type": "code",
   "execution_count": 20,
   "metadata": {},
   "outputs": [
    {
     "data": {
      "text/plain": [
       "{'mean': [0.9001776774724325,\n",
       "  0.8952952822049459,\n",
       "  0.89080810546875,\n",
       "  0.883841355641683,\n",
       "  0.8755151828130087],\n",
       " 'Std': [0.002608734144752963,\n",
       "  0.009078349428820548,\n",
       "  0.008735687868530113,\n",
       "  0.013837340678374528,\n",
       "  0.01271417128186049]}"
      ]
     },
     "execution_count": 20,
     "metadata": {},
     "output_type": "execute_result"
    }
   ],
   "source": [
    "y_scale_learn_info"
   ]
  },
  {
   "cell_type": "code",
   "execution_count": 21,
   "metadata": {},
   "outputs": [
    {
     "data": {
      "text/plain": [
       "<matplotlib.legend.Legend at 0x103ef29b0>"
      ]
     },
     "execution_count": 21,
     "metadata": {},
     "output_type": "execute_result"
    },
    {
     "data": {
      "image/png": "[encoded data removed]",
      "text/plain": [
       "<Figure size 640x480 with 1 Axes>"
      ]
     },
     "metadata": {},
     "output_type": "display_data"
    }
   ],
   "source": [
    "\n",
    "plt.plot(scale, y_scale_false_info[\"mean\"],label=f\"PINN_Multi_learn_scale_false\")\n",
    "     # 使用 plt.errorbar 绘制带有误差范围的散点\n",
    "# 使用 plt.fill_between 绘制带有误差范围的区域\n",
    "plt.fill_between(scale, np.array(y_scale_false_info[\"mean\"]) - np.array(y_scale_false_info[\"Std\"]), \n",
    "                 np.array(y_scale_false_info[\"mean\"]) + np.array(y_scale_false_info[\"Std\"]), alpha=0.2)\n",
    "plt.plot(scale, y_scale_learn_info[\"mean\"],label=f\"PINN_Multi_learn_scale_learn\")\n",
    "plt.fill_between(scale, np.array(y_scale_learn_info[\"mean\"]) - np.array(y_scale_learn_info[\"Std\"]), \n",
    "                 np.array(y_scale_learn_info[\"mean\"]) + np.array(y_scale_learn_info[\"Std\"]), alpha=0.2)\n",
    "plt.xlabel('Scale Numbers')\n",
    "plt.yscale('log')\n",
    "\n",
    "\n",
    "plt.title('Poisson Equation for scales ')\n",
    "\n",
    "# 显示图例\n",
    "plt.legend()"
   ]
  }
 ],
 "metadata": {
  "kernelspec": {
   "display_name": "base",
   "language": "python",
   "name": "python3"
  },
  "language_info": {
   "codemirror_mode": {
    "name": "ipython",
    "version": 3
   },
   "file_extension": ".py",
   "mimetype": "text/x-python",
   "name": "python",
   "nbconvert_exporter": "python",
   "pygments_lexer": "ipython3",
   "version": "3.10.9"
  }
 },
 "nbformat": 4,
 "nbformat_minor": 2
}
