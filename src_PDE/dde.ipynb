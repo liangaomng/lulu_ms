{
 "cells": [
  {
   "cell_type": "code",
   "execution_count": 2,
   "metadata": {},
   "outputs": [
    {
     "name": "stderr",
     "output_type": "stream",
     "text": [
      "Using backend: pytorch\n",
      "Other supported backends: tensorflow.compat.v1, tensorflow, jax, paddle.\n",
      "paddle supports more examples now and is recommended.\n"
     ]
    }
   ],
   "source": [
    "from deepxde.geometry import geometry_2d\n",
    "\n",
    "# 定义三角形的三个顶点\n",
    "x1 = (0, 0)\n",
    "x2 = (1, 0)\n",
    "x3 = (0, 1)\n",
    "\n",
    "# 创建三角形几何域\n",
    "triangle = geometry_2d.Triangle(x1, x2, x3)\n"
   ]
  },
  {
   "cell_type": "code",
   "execution_count": 7,
   "metadata": {},
   "outputs": [],
   "source": [
    "import deepxde.geometry as dde\n",
    "def Get_Data(self, **kwargs) :\n",
    "    # 定义三角形的三个顶点\n",
    "    x1 = (0, 0)  # 第一个顶点\n",
    "    x2 = (1, 0)  # 第二个顶点\n",
    "    x3 = (0, 1)  # 第三个顶点\n",
    "\n",
    "    # 使用Triangle来创建三角形几何域\n",
    "    self.geom = geometry_2d.Triangle(x1, x2, x3)\n",
    "\n",
    "    # 从kwargs中获取域、边界和测试点的数量\n",
    "    domain_numbers = kwargs.get(\"domain_numbers\", 6400)\n",
    "    boundary_numbers = kwargs.get(\"boundary_numbers\", 2000)\n",
    "    test_numbers = kwargs.get(\"test_numbers\", 6400)\n",
    "\n",
    "    # 定义边界条件\n",
    "    bc = dde.icbc.DirichletBC(self.geom, lambda x: 0, self.boundary)\n",
    "    \n",
    "    # 创建PDE数据对象\n",
    "    self.data = dde.data.PDE(\n",
    "        self.geom,\n",
    "        self.pde,\n",
    "        bc,\n",
    "        num_domain=domain_numbers,  # 域内的点数量\n",
    "        num_boundary=boundary_numbers,  # 边界的点数量\n",
    "        num_test=test_numbers,  # 测试点的数量\n",
    "        train_distribution=\"pseudo\",\n",
    "    )\n",
    "\n",
    "    return self.data\n"
   ]
  },
  {
   "cell_type": "code",
   "execution_count": null,
   "metadata": {},
   "outputs": [],
   "source": []
  }
 ],
 "metadata": {
  "kernelspec": {
   "display_name": "base",
   "language": "python",
   "name": "python3"
  },
  "language_info": {
   "codemirror_mode": {
    "name": "ipython",
    "version": 3
   },
   "file_extension": ".py",
   "mimetype": "text/x-python",
   "name": "python",
   "nbconvert_exporter": "python",
   "pygments_lexer": "ipython3",
   "version": "3.8.18"
  }
 },
 "nbformat": 4,
 "nbformat_minor": 2
}
