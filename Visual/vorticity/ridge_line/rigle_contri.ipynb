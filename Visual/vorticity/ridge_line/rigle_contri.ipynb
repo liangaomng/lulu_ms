{
 "cells": [
  {
   "cell_type": "code",
   "execution_count": null,
   "metadata": {},
   "outputs": [],
   "source": []
  },
  {
   "cell_type": "code",
   "execution_count": 45,
   "metadata": {},
   "outputs": [
    {
     "data": {
      "text/plain": [
       "array([[10, array([-0.11439868, -0.1102726 ,  0.02045293])],\n",
       "       [20, array([-0.12495427, -0.12086132,  0.04971102])],\n",
       "       [30, array([-0.16498807, -0.14802517,  0.05193868])],\n",
       "       [40, array([-0.19183439, -0.18579499,  0.04923716])],\n",
       "       [50, array([-0.18383765, -0.19492058,  0.03215009])],\n",
       "       [0,\n",
       "        list([-0.010711371898651123, 0.016424991190433502, 0.06689593195915222])]],\n",
       "      dtype=object)"
      ]
     },
     "execution_count": 45,
     "metadata": {},
     "output_type": "execute_result"
    }
   ],
   "source": [
    "import numpy as np\n",
    "\n",
    "# Replace 'file_path.npy' with the path to your .npy file\n",
    "data = np.load('/Users/liangaoming/Desktop/neural_study/lulu_ms/Result/Heat/Expr2_1/contribution.npy',allow_pickle=True)\n",
    "data\n",
    "\n",
    "# Now 'data' variable contains the data from the .npy file\n"
   ]
  },
  {
   "cell_type": "code",
   "execution_count": null,
   "metadata": {},
   "outputs": [],
   "source": []
  },
  {
   "cell_type": "code",
   "execution_count": null,
   "metadata": {},
   "outputs": [],
   "source": []
  },
  {
   "cell_type": "code",
   "execution_count": 38,
   "metadata": {},
   "outputs": [
    {
     "data": {
      "text/plain": [
       "array([0, 10, 20, 30, 40, 50], dtype=object)"
      ]
     },
     "execution_count": 38,
     "metadata": {},
     "output_type": "execute_result"
    }
   ],
   "source": []
  }
 ],
 "metadata": {
  "kernelspec": {
   "display_name": "base",
   "language": "python",
   "name": "python3"
  },
  "language_info": {
   "codemirror_mode": {
    "name": "ipython",
    "version": 3
   },
   "file_extension": ".py",
   "mimetype": "text/x-python",
   "name": "python",
   "nbconvert_exporter": "python",
   "pygments_lexer": "ipython3",
   "version": "3.10.9"
  }
 },
 "nbformat": 4,
 "nbformat_minor": 2
}
